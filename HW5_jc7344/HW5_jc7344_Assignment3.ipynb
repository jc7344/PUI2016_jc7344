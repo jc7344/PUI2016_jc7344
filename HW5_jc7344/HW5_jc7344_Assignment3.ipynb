{
 "cells": [
  {
   "cell_type": "markdown",
   "metadata": {},
   "source": [
    "Formulate the Null hypothesis in words and in formulae for the 4 experiments below:\n",
    "\n",
    "Do diets help lose more fat than the exercise?\n",
    "Experimental setup: you have a test and a control sample.\n",
    "\n",
    "Do American trust the president?\n",
    "POLL RESULTS: On May 16, 1994, Newsweek reported the results of a public opinion poll that asked: “From everything you know about Bill Clinton, does he have the honesty and integrity you expect in a president?” (p. 23). Poll surveyed 518 adults and 233, or 0.45 of them answered yes.\n",
    "\n",
    "Effectiveness of nicotine patches to quit smoking.\n",
    "Experimental setup: measure cessation rates for smokers randomly assigned to use a nicotine patch versus a placebo patch.\n",
    "\n",
    "Quantify the danger of smoking for pregnant women.\n",
    "Experimemtal setup: measure IQ of children at ages 1, 2, 3, and 4 years of age."
   ]
  },
  {
   "cell_type": "markdown",
   "metadata": {},
   "source": [
    "•\tNull: People part of the test sample lose less or equal amount of weight, measured in pounds, than people part of the control test. \n",
    "\n",
    "Diet lb >= Exercise lb. \n",
    "\n",
    "•\tNull: There is not clear leading opinion among surveyed population, both followers and opponents are evenly distributed. \n",
    "\n",
    "%followers = %opponents \n",
    "\n",
    "•\tNull: proportion of people using nicotine patches for quitting cigarettes is the same as the proportion of people using placebo patches.\n",
    "\n",
    "NicotinePUsers/PeopleQuitting = PlaceboUsers/ PeopleQuitting\n",
    "\n",
    "•\tNull: The mean of the IQ results for children whose mothers smoke 10 or more cigarettes per day during pregnancy are the same as the mean scores for those whose mothers do not smoke 10 or more cigarettes per day.\n",
    "\n",
    "MeanIQSmoker = MeanIQNonSmoker\n"
   ]
  },
  {
   "cell_type": "code",
   "execution_count": null,
   "metadata": {
    "collapsed": true
   },
   "outputs": [],
   "source": []
  }
 ],
 "metadata": {
  "kernelspec": {
   "display_name": "PUI2016_Python2",
   "language": "python",
   "name": "pui2016_python2"
  },
  "language_info": {
   "codemirror_mode": {
    "name": "ipython",
    "version": 2
   },
   "file_extension": ".py",
   "mimetype": "text/x-python",
   "name": "python",
   "nbconvert_exporter": "python",
   "pygments_lexer": "ipython2",
   "version": "2.7.12"
  }
 },
 "nbformat": 4,
 "nbformat_minor": 0
}
