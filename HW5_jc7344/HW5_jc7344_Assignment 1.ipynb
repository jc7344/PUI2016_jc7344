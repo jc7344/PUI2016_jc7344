{
 "cells": [
  {
   "cell_type": "code",
   "execution_count": 1,
   "metadata": {
    "collapsed": false
   },
   "outputs": [
    {
     "name": "stdout",
     "output_type": "stream",
     "text": [
      "Populating the interactive namespace from numpy and matplotlib\n"
     ]
    }
   ],
   "source": [
    "from __future__  import print_function, division\n",
    "import pylab as pl\n",
    "import pandas as pd\n",
    "import numpy as np\n",
    "import os\n",
    "\n",
    "%pylab inline\n",
    "\n",
    "if os.getenv ('PUI2016') is None:\n",
    "    print (\"Must set env variable PUI2016\")\n",
    "if os.getenv ('PUIDATA') is None:\n",
    "    print (\"Must set env variable PUI2016\")\n",
    "os.getenv('PUI2016')\n",
    "\n",
    "import os\n",
    "import json"
   ]
  },
  {
   "cell_type": "code",
   "execution_count": 2,
   "metadata": {
    "collapsed": false
   },
   "outputs": [
    {
     "data": {
      "text/plain": [
       "'/home/cusp/jc7344/PUI2016'"
      ]
     },
     "execution_count": 2,
     "metadata": {},
     "output_type": "execute_result"
    }
   ],
   "source": [
    "os.getenv('PUI2016')"
   ]
  },
  {
   "cell_type": "code",
   "execution_count": 3,
   "metadata": {
    "collapsed": false
   },
   "outputs": [
    {
     "data": {
      "text/plain": [
       "'/home/cusp/jc7344/PUIdata'"
      ]
     },
     "execution_count": 3,
     "metadata": {},
     "output_type": "execute_result"
    }
   ],
   "source": [
    "os.getenv('PUIDATA')"
   ]
  },
  {
   "cell_type": "code",
   "execution_count": 4,
   "metadata": {
    "collapsed": false
   },
   "outputs": [
    {
     "name": "stdout",
     "output_type": "stream",
     "text": [
      "  % Total    % Received % Xferd  Average Speed   Time    Time     Time  Current\n",
      "                                 Dload  Upload   Total   Spent    Left  Speed\n",
      "100 6845k  100 6845k    0     0  3098k      0  0:00:02  0:00:02 --:--:-- 3350k\n"
     ]
    }
   ],
   "source": [
    "get_ipython().system(\"curl -O 'https://s3.amazonaws.com/tripdata/201501-citibike-tripdata.zip'\")"
   ]
  },
  {
   "cell_type": "code",
   "execution_count": 5,
   "metadata": {
    "collapsed": false
   },
   "outputs": [
    {
     "name": "stdout",
     "output_type": "stream",
     "text": [
      "Archive:  201501-citibike-tripdata.zip\n",
      "replace 201501-citibike-tripdata.csv? [y]es, [n]o, [A]ll, [N]one, [r]ename: ^C\n"
     ]
    }
   ],
   "source": [
    "get_ipython().system('unzip 201501-citibike-tripdata.zip')"
   ]
  },
  {
   "cell_type": "code",
   "execution_count": 6,
   "metadata": {
    "collapsed": false
   },
   "outputs": [
    {
     "data": {
      "text/plain": [
       "<bound method DataFrame.head of         tripduration        starttime         stoptime  start station id  \\\n",
       "0               1346    1/1/2015 0:01    1/1/2015 0:24               455   \n",
       "1                363    1/1/2015 0:02    1/1/2015 0:08               434   \n",
       "2                346    1/1/2015 0:04    1/1/2015 0:10               491   \n",
       "3                182    1/1/2015 0:04    1/1/2015 0:07               384   \n",
       "4                969    1/1/2015 0:05    1/1/2015 0:21               474   \n",
       "5                496    1/1/2015 0:07    1/1/2015 0:15               512   \n",
       "6                152    1/1/2015 0:07    1/1/2015 0:09               498   \n",
       "7               1183    1/1/2015 0:08    1/1/2015 0:28               405   \n",
       "8                846    1/1/2015 0:09    1/1/2015 0:23               450   \n",
       "9                576    1/1/2015 0:10    1/1/2015 0:20               160   \n",
       "10               540    1/1/2015 0:10    1/1/2015 0:19               291   \n",
       "11               419    1/1/2015 0:11    1/1/2015 0:18               517   \n",
       "12               751    1/1/2015 0:13    1/1/2015 0:25               290   \n",
       "13               332    1/1/2015 0:13    1/1/2015 0:18               361   \n",
       "14              1099    1/1/2015 0:14    1/1/2015 0:32               317   \n",
       "15               649    1/1/2015 0:14    1/1/2015 0:25               488   \n",
       "16               614    1/1/2015 0:14    1/1/2015 0:24               285   \n",
       "17              1196    1/1/2015 0:16    1/1/2015 0:36               466   \n",
       "18              1426    1/1/2015 0:17    1/1/2015 0:40               360   \n",
       "19              1262    1/1/2015 0:18    1/1/2015 0:39               485   \n",
       "20               707    1/1/2015 0:18    1/1/2015 0:30               449   \n",
       "21               307    1/1/2015 0:18    1/1/2015 0:23               474   \n",
       "22              1053    1/1/2015 0:19    1/1/2015 0:37               164   \n",
       "23               446    1/1/2015 0:20    1/1/2015 0:27               522   \n",
       "24              1251    1/1/2015 0:21    1/1/2015 0:41               217   \n",
       "25               797    1/1/2015 0:21    1/1/2015 0:35               513   \n",
       "26               503    1/1/2015 0:21    1/1/2015 0:30               243   \n",
       "27              1639    1/1/2015 0:22    1/1/2015 0:49               382   \n",
       "28              1175    1/1/2015 0:22    1/1/2015 0:42               217   \n",
       "29               470    1/1/2015 0:22    1/1/2015 0:30               243   \n",
       "...              ...              ...              ...               ...   \n",
       "285522           257  1/31/2015 23:46  1/31/2015 23:50               526   \n",
       "285523           141  1/31/2015 23:46  1/31/2015 23:49               116   \n",
       "285524           125  1/31/2015 23:46  1/31/2015 23:48               478   \n",
       "285525           860  1/31/2015 23:47    2/1/2015 0:01               368   \n",
       "285526           471  1/31/2015 23:47  1/31/2015 23:55               325   \n",
       "285527           587  1/31/2015 23:48  1/31/2015 23:58               312   \n",
       "285528           399  1/31/2015 23:49  1/31/2015 23:56               274   \n",
       "285529          1544  1/31/2015 23:51    2/1/2015 0:17               521   \n",
       "285530           579  1/31/2015 23:51    2/1/2015 0:01               483   \n",
       "285531           284  1/31/2015 23:51  1/31/2015 23:56               493   \n",
       "285532          1527  1/31/2015 23:52    2/1/2015 0:17               491   \n",
       "285533          1509  1/31/2015 23:52    2/1/2015 0:17               382   \n",
       "285534           954  1/31/2015 23:52    2/1/2015 0:08               383   \n",
       "285535           447  1/31/2015 23:52    2/1/2015 0:00               528   \n",
       "285536           433  1/31/2015 23:52    2/1/2015 0:00               345   \n",
       "285537           319  1/31/2015 23:52  1/31/2015 23:57               453   \n",
       "285538           216  1/31/2015 23:52  1/31/2015 23:55               250   \n",
       "285539          1004  1/31/2015 23:53    2/1/2015 0:09               403   \n",
       "285540           926  1/31/2015 23:54    2/1/2015 0:09               168   \n",
       "285541           546  1/31/2015 23:54    2/1/2015 0:04               528   \n",
       "285542           429  1/31/2015 23:54    2/1/2015 0:01               491   \n",
       "285543           229  1/31/2015 23:55  1/31/2015 23:59               489   \n",
       "285544           401  1/31/2015 23:56    2/1/2015 0:03               483   \n",
       "285545           296  1/31/2015 23:56    2/1/2015 0:01               518   \n",
       "285546           993  1/31/2015 23:57    2/1/2015 0:13               254   \n",
       "285547           169  1/31/2015 23:57    2/1/2015 0:00               161   \n",
       "285548           827  1/31/2015 23:58    2/1/2015 0:12               252   \n",
       "285549           798  1/31/2015 23:58    2/1/2015 0:11               127   \n",
       "285550           725  1/31/2015 23:58    2/1/2015 0:10               435   \n",
       "285551           892  1/31/2015 23:59    2/1/2015 0:14               504   \n",
       "\n",
       "                    start station name  start station latitude  \\\n",
       "0                      1 Ave & E 44 St               40.750020   \n",
       "1                      9 Ave & W 18 St               40.743174   \n",
       "2                 E 24 St & Park Ave S               40.740964   \n",
       "3              Fulton St & Waverly Ave               40.683178   \n",
       "4                      5 Ave & E 29 St               40.745168   \n",
       "5                      W 29 St & 9 Ave               40.750073   \n",
       "6                   Broadway & W 32 St               40.748549   \n",
       "7        Washington St & Gansevoort St               40.739323   \n",
       "8                      W 49 St & 8 Ave               40.762272   \n",
       "9              E 37 St & Lexington Ave               40.748238   \n",
       "10          Madison St & Montgomery St               40.713126   \n",
       "11               Pershing Square South               40.751581   \n",
       "12                     2 Ave & E 58 St               40.760203   \n",
       "13                Allen St & Hester St               40.716059   \n",
       "14                   E 6 St & Avenue B               40.724537   \n",
       "15                     W 39 St & 9 Ave               40.756458   \n",
       "16                  Broadway & E 14 St               40.734546   \n",
       "17                     W 25 St & 6 Ave               40.743954   \n",
       "18                William St & Pine St               40.707179   \n",
       "19                     W 37 St & 5 Ave               40.750380   \n",
       "20                     W 52 St & 9 Ave               40.764618   \n",
       "21                     5 Ave & E 29 St               40.745168   \n",
       "22                     E 47 St & 2 Ave               40.753231   \n",
       "23             E 51 St & Lexington Ave               40.757148   \n",
       "24                       Old Fulton St               40.702772   \n",
       "25                    W 56 St & 10 Ave               40.768254   \n",
       "26             Fulton St & Rockwell Pl               40.688226   \n",
       "27             University Pl & E 14 St               40.734927   \n",
       "28                       Old Fulton St               40.702772   \n",
       "29             Fulton St & Rockwell Pl               40.688226   \n",
       "...                                ...                     ...   \n",
       "285522                 E 33 St & 5 Ave               40.747659   \n",
       "285523                 W 17 St & 8 Ave               40.741776   \n",
       "285524                11 Ave & W 41 St               40.760301   \n",
       "285525              Carmine St & 6 Ave               40.730386   \n",
       "285526                 E 19 St & 3 Ave               40.736245   \n",
       "285527         Allen St & E Houston St               40.722055   \n",
       "285528  Lafayette Ave & Fort Greene Pl               40.686919   \n",
       "285529                 8 Ave & W 31 St               40.750450   \n",
       "285530                 E 12 St & 3 Ave               40.732233   \n",
       "285531                 W 45 St & 6 Ave               40.756800   \n",
       "285532            E 24 St & Park Ave S               40.740964   \n",
       "285533         University Pl & E 14 St               40.734927   \n",
       "285534      Greenwich Ave & Charles St               40.735238   \n",
       "285535                 2 Ave & E 31 St               40.742909   \n",
       "285536                 W 13 St & 6 Ave               40.736494   \n",
       "285537                 W 22 St & 8 Ave               40.744751   \n",
       "285538        Lafayette St & Jersey St               40.724561   \n",
       "285539                  E 2 St & 2 Ave               40.725029   \n",
       "285540                 W 18 St & 6 Ave               40.739713   \n",
       "285541                 2 Ave & E 31 St               40.742909   \n",
       "285542            E 24 St & Park Ave S               40.740964   \n",
       "285543                10 Ave & W 28 St               40.750664   \n",
       "285544                 E 12 St & 3 Ave               40.732233   \n",
       "285545                 E 39 St & 2 Ave               40.747804   \n",
       "285546                 W 11 St & 6 Ave               40.735324   \n",
       "285547           LaGuardia Pl & W 3 St               40.729170   \n",
       "285548    MacDougal St & Washington Sq               40.732264   \n",
       "285549           Barrow St & Hudson St               40.731724   \n",
       "285550                 W 21 St & 6 Ave               40.741740   \n",
       "285551                 1 Ave & E 15 St               40.732219   \n",
       "\n",
       "        start station longitude  end station id  \\\n",
       "0                    -73.969053             265   \n",
       "1                    -74.003664             482   \n",
       "2                    -73.986022             505   \n",
       "3                    -73.965964             399   \n",
       "4                    -73.986831             432   \n",
       "5                    -73.998393             383   \n",
       "6                    -73.988084             474   \n",
       "7                    -74.008119             174   \n",
       "8                    -73.987882             488   \n",
       "9                    -73.978311             174   \n",
       "10                   -73.984844             151   \n",
       "11                   -73.977910             540   \n",
       "12                   -73.964785             507   \n",
       "13                   -73.991908             438   \n",
       "14                   -73.981854            2012   \n",
       "15                   -73.993722             434   \n",
       "16                   -73.990741             312   \n",
       "17                   -73.991449             454   \n",
       "18                   -74.008873             391   \n",
       "19                   -73.983390             251   \n",
       "20                   -73.987895             509   \n",
       "21                   -73.986831             476   \n",
       "22                   -73.970325             523   \n",
       "23                   -73.972078             518   \n",
       "24                   -73.993836             313   \n",
       "25                   -73.988639             488   \n",
       "26                   -73.979382             270   \n",
       "27                   -73.992005             352   \n",
       "28                   -73.993836             313   \n",
       "29                   -73.979382             270   \n",
       "...                         ...             ...   \n",
       "285522               -73.984907             444   \n",
       "285523               -74.001497             116   \n",
       "285524               -73.998842             515   \n",
       "285525               -74.002150             531   \n",
       "285526               -73.984738             527   \n",
       "285527               -73.989111            2009   \n",
       "285528               -73.976682             366   \n",
       "285529               -73.994811             128   \n",
       "285530               -73.988900             411   \n",
       "285531               -73.982912             318   \n",
       "285532               -73.986022             341   \n",
       "285533               -73.992005             448   \n",
       "285534               -74.000271             383   \n",
       "285535               -73.977061             504   \n",
       "285536               -73.997044             368   \n",
       "285537               -73.999154             346   \n",
       "285538               -73.995653             265   \n",
       "285539               -73.990697             358   \n",
       "285540               -73.994564             488   \n",
       "285541               -73.977061             498   \n",
       "285542               -73.986022            2012   \n",
       "285543               -74.001768             494   \n",
       "285544               -73.988900             174   \n",
       "285545               -73.973442             454   \n",
       "285546               -73.998004             473   \n",
       "285547               -73.998102             368   \n",
       "285548               -73.998522             440   \n",
       "285549               -74.006744             433   \n",
       "285550               -73.994156             368   \n",
       "285551               -73.981656             295   \n",
       "\n",
       "                     end station name  end station latitude  \\\n",
       "0            Stanton St & Chrystie St             40.722293   \n",
       "1                     W 15 St & 7 Ave             40.739355   \n",
       "2                     6 Ave & W 33 St             40.749013   \n",
       "3         Lafayette Ave & St James Pl             40.688515   \n",
       "4                   E 7 St & Avenue A             40.726218   \n",
       "5          Greenwich Ave & Charles St             40.735238   \n",
       "6                     5 Ave & E 29 St             40.745168   \n",
       "7                     E 25 St & 1 Ave             40.738177   \n",
       "8                     W 39 St & 9 Ave             40.756458   \n",
       "9                     E 25 St & 1 Ave             40.738177   \n",
       "10           Cleveland Pl & Spring St             40.721816   \n",
       "11            Lexington Ave & E 26 St             40.741473   \n",
       "12                    E 25 St & 2 Ave             40.739126   \n",
       "13                St Marks Pl & 1 Ave             40.727791   \n",
       "14                    E 27 St & 1 Ave             40.739445   \n",
       "15                    9 Ave & W 18 St             40.743174   \n",
       "16            Allen St & E Houston St             40.722055   \n",
       "17                    E 51 St & 1 Ave             40.754557   \n",
       "18                Clark St & Henry St             40.697601   \n",
       "19                Mott St & Prince St             40.723180   \n",
       "20                    9 Ave & W 22 St             40.745497   \n",
       "21                    E 31 St & 3 Ave             40.743943   \n",
       "22                    W 38 St & 8 Ave             40.754666   \n",
       "23                    E 39 St & 2 Ave             40.747804   \n",
       "24          Washington Ave & Park Ave             40.696102   \n",
       "25                    W 39 St & 9 Ave             40.756458   \n",
       "26            Adelphi St & Myrtle Ave             40.693083   \n",
       "27                    W 56 St & 6 Ave             40.763406   \n",
       "28          Washington Ave & Park Ave             40.696102   \n",
       "29            Adelphi St & Myrtle Ave             40.693083   \n",
       "...                               ...                   ...   \n",
       "285522             Broadway & W 24 St             40.742354   \n",
       "285523                W 17 St & 8 Ave             40.741776   \n",
       "285524               W 43 St & 10 Ave             40.760094   \n",
       "285525         Forsyth St & Broome St             40.718939   \n",
       "285526                E 33 St & 2 Ave             40.744023   \n",
       "285527       Catherine St & Monroe St             40.711174   \n",
       "285528       Clinton Ave & Myrtle Ave             40.693261   \n",
       "285529       MacDougal St & Prince St             40.727103   \n",
       "285530              E 6 St & Avenue D             40.722281   \n",
       "285531       E 43 St & Vanderbilt Ave             40.753202   \n",
       "285532         Stanton St & Mangin St             40.717821   \n",
       "285533               W 37 St & 10 Ave             40.756604   \n",
       "285534     Greenwich Ave & Charles St             40.735238   \n",
       "285535                1 Ave & E 15 St             40.732219   \n",
       "285536             Carmine St & 6 Ave             40.730386   \n",
       "285537            Bank St & Hudson St             40.736529   \n",
       "285538       Stanton St & Chrystie St             40.722293   \n",
       "285539  Christopher St & Greenwich St             40.732916   \n",
       "285540                W 39 St & 9 Ave             40.756458   \n",
       "285541             Broadway & W 32 St             40.748549   \n",
       "285542                E 27 St & 1 Ave             40.739445   \n",
       "285543                W 26 St & 8 Ave             40.747348   \n",
       "285544                E 25 St & 1 Ave             40.738177   \n",
       "285545                E 51 St & 1 Ave             40.754557   \n",
       "285546     Rivington St & Chrystie St             40.721101   \n",
       "285547             Carmine St & 6 Ave             40.730386   \n",
       "285548                E 45 St & 3 Ave             40.752554   \n",
       "285549             E 13 St & Avenue A             40.729554   \n",
       "285550             Carmine St & 6 Ave             40.730386   \n",
       "285551           Pike St & E Broadway             40.714067   \n",
       "\n",
       "        end station longitude  bikeid    usertype  birth year  gender  \n",
       "0                  -73.991475   18660  Subscriber      1960.0       2  \n",
       "1                  -73.999318   16085  Subscriber      1963.0       1  \n",
       "2                  -73.988484   20845  Subscriber      1974.0       1  \n",
       "3                  -73.964763   19610  Subscriber      1969.0       1  \n",
       "4                  -73.983799   20197  Subscriber      1977.0       1  \n",
       "5                  -74.000271   20788  Subscriber      1969.0       2  \n",
       "6                  -73.986831   19006  Subscriber      1972.0       1  \n",
       "7                  -73.977387   17640  Subscriber      1985.0       2  \n",
       "8                  -73.993722   15691  Subscriber      1991.0       1  \n",
       "9                  -73.977387   17837  Subscriber      1991.0       1  \n",
       "10                 -73.997203   16947  Subscriber      1979.0       1  \n",
       "11                 -73.983209   14807  Subscriber      1980.0       1  \n",
       "12                 -73.979738   16702  Subscriber      1987.0       1  \n",
       "13                 -73.985649   17342  Subscriber      1988.0       1  \n",
       "14                 -73.976806   19909  Subscriber      1983.0       1  \n",
       "15                 -74.003664   19584  Subscriber      1979.0       1  \n",
       "16                 -73.989111   19202  Subscriber      1959.0       1  \n",
       "17                 -73.965930   20683  Subscriber      1971.0       1  \n",
       "18                 -73.993446   21554  Subscriber      1977.0       1  \n",
       "19                 -73.994800   16894  Subscriber      1980.0       1  \n",
       "20                 -74.001971   14598  Subscriber      1972.0       1  \n",
       "21                 -73.979661   18834  Subscriber      1962.0       1  \n",
       "22                 -73.991382   15617  Subscriber      1987.0       1  \n",
       "23                 -73.973442   15812  Subscriber      1988.0       1  \n",
       "24                 -73.967510   19780    Customer         NaN       0  \n",
       "25                 -73.993722   16761  Subscriber      1969.0       1  \n",
       "26                 -73.971789   14570    Customer         NaN       0  \n",
       "27                 -73.977225   18320  Subscriber      1996.0       2  \n",
       "28                 -73.967510   16610    Customer         NaN       0  \n",
       "29                 -73.971789   20804  Subscriber      1986.0       1  \n",
       "...                       ...     ...         ...         ...     ...  \n",
       "285522             -73.989151   20740  Subscriber      1979.0       1  \n",
       "285523             -74.001497   21185  Subscriber      1990.0       1  \n",
       "285524             -73.994618   15130  Subscriber      1983.0       1  \n",
       "285525             -73.992663   16262  Subscriber      1982.0       1  \n",
       "285526             -73.976056   17920  Subscriber      1988.0       2  \n",
       "285527             -73.996826   18818  Subscriber      1973.0       1  \n",
       "285528             -73.968896   16477  Subscriber      1979.0       1  \n",
       "285529             -74.002971   19506  Subscriber      1966.0       1  \n",
       "285530             -73.976687   16202  Subscriber      1961.0       1  \n",
       "285531             -73.977987   16887  Subscriber      1968.0       1  \n",
       "285532             -73.976289   21518  Subscriber      1986.0       2  \n",
       "285533             -73.997901   18797  Subscriber      1991.0       2  \n",
       "285534             -74.000271   19756  Subscriber      1969.0       1  \n",
       "285535             -73.981656   20565  Subscriber      1987.0       1  \n",
       "285536             -74.002150   16285  Subscriber      1986.0       1  \n",
       "285537             -74.006180   15926  Subscriber      1972.0       1  \n",
       "285538             -73.991475   19919  Subscriber      1986.0       1  \n",
       "285539             -74.007114   21204  Subscriber      1990.0       1  \n",
       "285540             -73.993722   19110  Subscriber      1964.0       1  \n",
       "285541             -73.988084   20769  Subscriber      1989.0       1  \n",
       "285542             -73.976806   20621  Subscriber      1991.0       1  \n",
       "285543             -73.997236   15969  Subscriber      1985.0       2  \n",
       "285544             -73.977387   14760  Subscriber      1971.0       1  \n",
       "285545             -73.965930   20327  Subscriber      1983.0       1  \n",
       "285546             -73.991925   19424  Subscriber      1970.0       1  \n",
       "285547             -74.002150   17456  Subscriber      1956.0       1  \n",
       "285548             -73.972826   17669  Subscriber      1976.0       1  \n",
       "285549             -73.980572   20237  Subscriber      1994.0       1  \n",
       "285550             -74.002150   21029  Subscriber      1957.0       1  \n",
       "285551             -73.992939   18342  Subscriber      1974.0       1  \n",
       "\n",
       "[285552 rows x 15 columns]>"
      ]
     },
     "execution_count": 6,
     "metadata": {},
     "output_type": "execute_result"
    }
   ],
   "source": [
    "CitiBike = pd.read_csv('201501-citibike-tripdata.csv')\n",
    "CitiBike.head"
   ]
  },
  {
   "cell_type": "code",
   "execution_count": 7,
   "metadata": {
    "collapsed": false
   },
   "outputs": [
    {
     "data": {
      "text/plain": [
       "Index([u'tripduration', u'starttime', u'stoptime', u'start station id',\n",
       "       u'start station name', u'start station latitude',\n",
       "       u'start station longitude', u'end station id', u'end station name',\n",
       "       u'end station latitude', u'end station longitude', u'bikeid',\n",
       "       u'usertype', u'birth year', u'gender'],\n",
       "      dtype='object')"
      ]
     },
     "execution_count": 7,
     "metadata": {},
     "output_type": "execute_result"
    }
   ],
   "source": [
    "CitiBike.columns"
   ]
  },
  {
   "cell_type": "code",
   "execution_count": 8,
   "metadata": {
    "collapsed": false
   },
   "outputs": [],
   "source": [
    "CitiBike.drop(['tripduration', 'starttime', 'stoptime', 'start station id',\n",
    "       'start station name', 'start station latitude',\n",
    "       'start station longitude', 'end station id', 'end station name',\n",
    "       'end station latitude', 'end station longitude', 'bikeid',\n",
    "       'usertype', 'gender'], axis = 1, inplace = True)"
   ]
  },
  {
   "cell_type": "code",
   "execution_count": 9,
   "metadata": {
    "collapsed": false
   },
   "outputs": [
    {
     "data": {
      "text/html": [
       "<div>\n",
       "<table border=\"1\" class=\"dataframe\">\n",
       "  <thead>\n",
       "    <tr style=\"text-align: right;\">\n",
       "      <th></th>\n",
       "      <th>birth year</th>\n",
       "    </tr>\n",
       "  </thead>\n",
       "  <tbody>\n",
       "    <tr>\n",
       "      <th>0</th>\n",
       "      <td>1960.0</td>\n",
       "    </tr>\n",
       "    <tr>\n",
       "      <th>1</th>\n",
       "      <td>1963.0</td>\n",
       "    </tr>\n",
       "    <tr>\n",
       "      <th>2</th>\n",
       "      <td>1974.0</td>\n",
       "    </tr>\n",
       "    <tr>\n",
       "      <th>3</th>\n",
       "      <td>1969.0</td>\n",
       "    </tr>\n",
       "    <tr>\n",
       "      <th>4</th>\n",
       "      <td>1977.0</td>\n",
       "    </tr>\n",
       "  </tbody>\n",
       "</table>\n",
       "</div>"
      ],
      "text/plain": [
       "   birth year\n",
       "0      1960.0\n",
       "1      1963.0\n",
       "2      1974.0\n",
       "3      1969.0\n",
       "4      1977.0"
      ]
     },
     "execution_count": 9,
     "metadata": {},
     "output_type": "execute_result"
    }
   ],
   "source": [
    "CitiBike.head()"
   ]
  },
  {
   "cell_type": "code",
   "execution_count": 11,
   "metadata": {
    "collapsed": false
   },
   "outputs": [
    {
     "data": {
      "text/plain": [
       "array([[ 1960.],\n",
       "       [ 1963.],\n",
       "       [ 1974.],\n",
       "       ..., \n",
       "       [ 1994.],\n",
       "       [ 1957.],\n",
       "       [ 1974.]])"
      ]
     },
     "execution_count": 11,
     "metadata": {},
     "output_type": "execute_result"
    }
   ],
   "source": [
    "CitiAge = CitiBike['birth year'] > 1920\n",
    "CitiBike[CitiAge].dropna().values\n",
    "#By adjusting age date of birth after 1920, we are givin age a paramater "
   ]
  },
  {
   "cell_type": "code",
   "execution_count": 12,
   "metadata": {
    "collapsed": false
   },
   "outputs": [
    {
     "data": {
      "text/plain": [
       "array([ 56.,  53.,  42., ...,  22.,  59.,  42.])"
      ]
     },
     "execution_count": 12,
     "metadata": {},
     "output_type": "execute_result"
    }
   ],
   "source": [
    "age_citi = (2016 - CitiBike[CitiAge].dropna().values).flatten()\n",
    "age_citi"
   ]
  },
  {
   "cell_type": "code",
   "execution_count": 13,
   "metadata": {
    "collapsed": false
   },
   "outputs": [
    {
     "data": {
      "text/plain": [
       "41.016529486817511"
      ]
     },
     "execution_count": 13,
     "metadata": {},
     "output_type": "execute_result"
    }
   ],
   "source": [
    "mean_citi = np.mean(age_citi)\n",
    "mean_citi"
   ]
  },
  {
   "cell_type": "code",
   "execution_count": 14,
   "metadata": {
    "collapsed": false
   },
   "outputs": [
    {
     "data": {
      "text/plain": [
       "(11.473887375120887, 41.016529486817511)"
      ]
     },
     "execution_count": 14,
     "metadata": {},
     "output_type": "execute_result"
    }
   ],
   "source": [
    "std_citi = np.std(age_citi)\n",
    "std_citi, mean_citi"
   ]
  },
  {
   "cell_type": "code",
   "execution_count": 15,
   "metadata": {
    "collapsed": true
   },
   "outputs": [],
   "source": [
    "import scipy.stats"
   ]
  },
  {
   "cell_type": "code",
   "execution_count": 16,
   "metadata": {
    "collapsed": false
   },
   "outputs": [
    {
     "data": {
      "text/plain": [
       "<function scipy.stats.stats.ks_2samp>"
      ]
     },
     "execution_count": 16,
     "metadata": {},
     "output_type": "execute_result"
    }
   ],
   "source": [
    "scipy.stats.ks_2samp"
   ]
  },
  {
   "cell_type": "code",
   "execution_count": 17,
   "metadata": {
    "collapsed": false
   },
   "outputs": [
    {
     "data": {
      "text/plain": [
       "KstestResult(statistic=0.088109171739417902, pvalue=0.0)"
      ]
     },
     "execution_count": 17,
     "metadata": {},
     "output_type": "execute_result"
    }
   ],
   "source": [
    "scipy.stats.kstest(age_citi, 'norm', args = (mean_citi, std_citi))"
   ]
  },
  {
   "cell_type": "markdown",
   "metadata": {},
   "source": [
    "H0= there is no significant difference between Age distribution of Citibike users (age_citi) and the Gaussian distributon. \n",
    "\n",
    "\n",
    "H1= There is a significant difference between Age distribution of CitiBike users (age_citi) and the Gaussian distribution. \n",
    "\n",
    "Since p<.05 we succeed to reject the Null Hypohesis and accepted the alternative. There is a significant difference between the age distribution and citibike users'gaussian distribution. "
   ]
  },
  {
   "cell_type": "code",
   "execution_count": 18,
   "metadata": {
    "collapsed": false
   },
   "outputs": [
    {
     "data": {
      "text/plain": [
       "(array([  1.70000000e+01,   4.18000000e+02,   5.60900000e+03,\n",
       "          3.11720000e+04,   8.11170000e+04,   9.54370000e+04,\n",
       "          5.18490000e+04,   1.27240000e+04,   1.38600000e+03,\n",
       "          7.40000000e+01]),\n",
       " array([-13.88623381,  -3.36261268,   7.16100844,  17.68462956,\n",
       "         28.20825068,  38.7318718 ,  49.25549292,  59.77911404,\n",
       "         70.30273517,  80.82635629,  91.34997741]),\n",
       " <a list of 10 Patch objects>)"
      ]
     },
     "execution_count": 18,
     "metadata": {},
     "output_type": "execute_result"
    },
    {
     "data": {
      "image/png": "[encoded data removed]",
      "text/plain": [
       "<matplotlib.figure.Figure at 0x7fd994c38390>"
      ]
     },
     "metadata": {},
     "output_type": "display_data"
    }
   ],
   "source": [
    "pl.hist(age_citi)\n",
    "pl.hist(scipy.stats.norm.rvs(loc=mean_citi, scale=std_citi, size=len(age_citi)),alpha=0.5)"
   ]
  },
  {
   "cell_type": "code",
   "execution_count": 19,
   "metadata": {
    "collapsed": false
   },
   "outputs": [
    {
     "data": {
      "text/plain": [
       "['Tester',\n",
       " '__all__',\n",
       " '__builtins__',\n",
       " '__doc__',\n",
       " '__file__',\n",
       " '__name__',\n",
       " '__package__',\n",
       " '__path__',\n",
       " '_binned_statistic',\n",
       " '_constants',\n",
       " '_continuous_distns',\n",
       " '_discrete_distns',\n",
       " '_distn_infrastructure',\n",
       " '_distr_params',\n",
       " '_multivariate',\n",
       " '_stats',\n",
       " '_stats_mstats_common',\n",
       " '_tukeylambda_stats',\n",
       " 'absolute_import',\n",
       " 'alpha',\n",
       " 'anderson',\n",
       " 'anderson_ksamp',\n",
       " 'anglit',\n",
       " 'ansari',\n",
       " 'arcsine',\n",
       " 'bartlett',\n",
       " 'bayes_mvs',\n",
       " 'bernoulli',\n",
       " 'beta',\n",
       " 'betai',\n",
       " 'betaprime',\n",
       " 'binned_statistic',\n",
       " 'binned_statistic_2d',\n",
       " 'binned_statistic_dd',\n",
       " 'binom',\n",
       " 'binom_test',\n",
       " 'boltzmann',\n",
       " 'boxcox',\n",
       " 'boxcox_llf',\n",
       " 'boxcox_normmax',\n",
       " 'boxcox_normplot',\n",
       " 'bradford',\n",
       " 'burr',\n",
       " 'burr12',\n",
       " 'cauchy',\n",
       " 'chi',\n",
       " 'chi2',\n",
       " 'chi2_contingency',\n",
       " 'chisqprob',\n",
       " 'chisquare',\n",
       " 'circmean',\n",
       " 'circstd',\n",
       " 'circvar',\n",
       " 'combine_pvalues',\n",
       " 'contingency',\n",
       " 'cosine',\n",
       " 'cumfreq',\n",
       " 'describe',\n",
       " 'dgamma',\n",
       " 'dirichlet',\n",
       " 'distributions',\n",
       " 'division',\n",
       " 'dlaplace',\n",
       " 'dweibull',\n",
       " 'entropy',\n",
       " 'erlang',\n",
       " 'expon',\n",
       " 'exponnorm',\n",
       " 'exponpow',\n",
       " 'exponweib',\n",
       " 'f',\n",
       " 'f_oneway',\n",
       " 'f_value',\n",
       " 'f_value_multivariate',\n",
       " 'f_value_wilks_lambda',\n",
       " 'fastsort',\n",
       " 'fatiguelife',\n",
       " 'find_repeats',\n",
       " 'fisher_exact',\n",
       " 'fisk',\n",
       " 'fligner',\n",
       " 'foldcauchy',\n",
       " 'foldnorm',\n",
       " 'frechet_l',\n",
       " 'frechet_r',\n",
       " 'friedmanchisquare',\n",
       " 'gamma',\n",
       " 'gausshyper',\n",
       " 'gaussian_kde',\n",
       " 'genexpon',\n",
       " 'genextreme',\n",
       " 'gengamma',\n",
       " 'genhalflogistic',\n",
       " 'genlogistic',\n",
       " 'gennorm',\n",
       " 'genpareto',\n",
       " 'geom',\n",
       " 'gilbrat',\n",
       " 'gmean',\n",
       " 'gompertz',\n",
       " 'gumbel_l',\n",
       " 'gumbel_r',\n",
       " 'halfcauchy',\n",
       " 'halfgennorm',\n",
       " 'halflogistic',\n",
       " 'halfnorm',\n",
       " 'histogram',\n",
       " 'histogram2',\n",
       " 'hmean',\n",
       " 'hypergeom',\n",
       " 'hypsecant',\n",
       " 'invgamma',\n",
       " 'invgauss',\n",
       " 'invweibull',\n",
       " 'invwishart',\n",
       " 'iqr',\n",
       " 'itemfreq',\n",
       " 'jarque_bera',\n",
       " 'johnsonsb',\n",
       " 'johnsonsu',\n",
       " 'kappa3',\n",
       " 'kappa4',\n",
       " 'kde',\n",
       " 'kendalltau',\n",
       " 'kruskal',\n",
       " 'ks_2samp',\n",
       " 'ksone',\n",
       " 'kstat',\n",
       " 'kstatvar',\n",
       " 'kstest',\n",
       " 'kstwobign',\n",
       " 'kurtosis',\n",
       " 'kurtosistest',\n",
       " 'laplace',\n",
       " 'levene',\n",
       " 'levy',\n",
       " 'levy_l',\n",
       " 'levy_stable',\n",
       " 'linregress',\n",
       " 'loggamma',\n",
       " 'logistic',\n",
       " 'loglaplace',\n",
       " 'lognorm',\n",
       " 'logser',\n",
       " 'lomax',\n",
       " 'mannwhitneyu',\n",
       " 'matrix_normal',\n",
       " 'maxwell',\n",
       " 'median_test',\n",
       " 'mielke',\n",
       " 'mode',\n",
       " 'moment',\n",
       " 'mood',\n",
       " 'morestats',\n",
       " 'mstats',\n",
       " 'mstats_basic',\n",
       " 'mstats_extras',\n",
       " 'multivariate_normal',\n",
       " 'mvn',\n",
       " 'mvsdist',\n",
       " 'nakagami',\n",
       " 'nbinom',\n",
       " 'ncf',\n",
       " 'nct',\n",
       " 'ncx2',\n",
       " 'norm',\n",
       " 'normaltest',\n",
       " 'obrientransform',\n",
       " 'ortho_group',\n",
       " 'pareto',\n",
       " 'pdf_fromgamma',\n",
       " 'pearson3',\n",
       " 'pearsonr',\n",
       " 'percentileofscore',\n",
       " 'planck',\n",
       " 'pointbiserialr',\n",
       " 'poisson',\n",
       " 'power_divergence',\n",
       " 'powerlaw',\n",
       " 'powerlognorm',\n",
       " 'powernorm',\n",
       " 'ppcc_max',\n",
       " 'ppcc_plot',\n",
       " 'print_function',\n",
       " 'probplot',\n",
       " 'randint',\n",
       " 'random_correlation',\n",
       " 'rankdata',\n",
       " 'ranksums',\n",
       " 'rayleigh',\n",
       " 'rdist',\n",
       " 'recipinvgauss',\n",
       " 'reciprocal',\n",
       " 'relfreq',\n",
       " 'rice',\n",
       " 'rv_continuous',\n",
       " 'rv_discrete',\n",
       " 's',\n",
       " 'scoreatpercentile',\n",
       " 'sem',\n",
       " 'semicircular',\n",
       " 'shapiro',\n",
       " 'sigmaclip',\n",
       " 'signaltonoise',\n",
       " 'skellam',\n",
       " 'skew',\n",
       " 'skewnorm',\n",
       " 'skewtest',\n",
       " 'spearmanr',\n",
       " 'special_ortho_group',\n",
       " 'square_of_sums',\n",
       " 'ss',\n",
       " 'statlib',\n",
       " 'stats',\n",
       " 't',\n",
       " 'test',\n",
       " 'theilslopes',\n",
       " 'threshold',\n",
       " 'tiecorrect',\n",
       " 'tmax',\n",
       " 'tmean',\n",
       " 'tmin',\n",
       " 'trapz',\n",
       " 'triang',\n",
       " 'trim1',\n",
       " 'trim_mean',\n",
       " 'trimboth',\n",
       " 'truncexpon',\n",
       " 'truncnorm',\n",
       " 'tsem',\n",
       " 'tstd',\n",
       " 'ttest_1samp',\n",
       " 'ttest_ind',\n",
       " 'ttest_ind_from_stats',\n",
       " 'ttest_rel',\n",
       " 'tukeylambda',\n",
       " 'tvar',\n",
       " 'uniform',\n",
       " 'variation',\n",
       " 'vonmises',\n",
       " 'vonmises_line',\n",
       " 'wald',\n",
       " 'weibull_max',\n",
       " 'weibull_min',\n",
       " 'wilcoxon',\n",
       " 'wishart',\n",
       " 'wrapcauchy',\n",
       " 'zipf',\n",
       " 'zmap',\n",
       " 'zscore']"
      ]
     },
     "execution_count": 19,
     "metadata": {},
     "output_type": "execute_result"
    }
   ],
   "source": [
    "dir(scipy.stats)"
   ]
  },
  {
   "cell_type": "code",
   "execution_count": 20,
   "metadata": {
    "collapsed": false
   },
   "outputs": [
    {
     "data": {
      "text/plain": [
       "<scipy.stats._continuous_distns.norm_gen at 0x7fd994ded710>"
      ]
     },
     "execution_count": 20,
     "metadata": {},
     "output_type": "execute_result"
    }
   ],
   "source": [
    "scipy.stats.norm"
   ]
  },
  {
   "cell_type": "code",
   "execution_count": 21,
   "metadata": {
    "collapsed": false
   },
   "outputs": [
    {
     "data": {
      "text/plain": [
       "KstestResult(statistic=0.54220670962452056, pvalue=0.0)"
      ]
     },
     "execution_count": 21,
     "metadata": {},
     "output_type": "execute_result"
    }
   ],
   "source": [
    "scipy.stats.kstest(age_citi, 'poisson', args = (mean_citi, std_citi))"
   ]
  },
  {
   "cell_type": "code",
   "execution_count": 23,
   "metadata": {
    "collapsed": false
   },
   "outputs": [
    {
     "data": {
      "text/plain": [
       "<bound method poisson_gen.rvs of <scipy.stats._discrete_distns.poisson_gen object at 0x7fd994da2c10>>"
      ]
     },
     "execution_count": 23,
     "metadata": {},
     "output_type": "execute_result"
    }
   ],
   "source": [
    "scipy.stats.poisson.rvs"
   ]
  },
  {
   "cell_type": "code",
   "execution_count": 24,
   "metadata": {
    "collapsed": false
   },
   "outputs": [
    {
     "data": {
      "text/plain": [
       "<bound method norm_gen.rvs of <scipy.stats._continuous_distns.norm_gen object at 0x7fd994ded710>>"
      ]
     },
     "execution_count": 24,
     "metadata": {},
     "output_type": "execute_result"
    }
   ],
   "source": [
    "scipy.stats.norm.rvs"
   ]
  },
  {
   "cell_type": "code",
   "execution_count": 25,
   "metadata": {
    "collapsed": false
   },
   "outputs": [
    {
     "ename": "TypeError",
     "evalue": "_parse_args_rvs() got an unexpected keyword argument 'scale'",
     "output_type": "error",
     "traceback": [
      "\u001b[0;31m\u001b[0m",
      "\u001b[0;31mTypeError\u001b[0mTraceback (most recent call last)",
      "\u001b[0;32m<ipython-input-25-9be2f0ef688f>\u001b[0m in \u001b[0;36m<module>\u001b[0;34m()\u001b[0m\n\u001b[1;32m      1\u001b[0m \u001b[0mpl\u001b[0m\u001b[0;34m.\u001b[0m\u001b[0mhist\u001b[0m\u001b[0;34m(\u001b[0m\u001b[0mage_citi\u001b[0m\u001b[0;34m)\u001b[0m\u001b[0;34m\u001b[0m\u001b[0m\n\u001b[0;32m----> 2\u001b[0;31m \u001b[0mpl\u001b[0m\u001b[0;34m.\u001b[0m\u001b[0mhist\u001b[0m\u001b[0;34m(\u001b[0m\u001b[0mscipy\u001b[0m\u001b[0;34m.\u001b[0m\u001b[0mstats\u001b[0m\u001b[0;34m.\u001b[0m\u001b[0mpoisson\u001b[0m\u001b[0;34m.\u001b[0m\u001b[0mrvs\u001b[0m\u001b[0;34m(\u001b[0m\u001b[0mloc\u001b[0m\u001b[0;34m=\u001b[0m\u001b[0mmean_citi\u001b[0m\u001b[0;34m,\u001b[0m \u001b[0mscale\u001b[0m\u001b[0;34m=\u001b[0m\u001b[0mstd_citi\u001b[0m\u001b[0;34m,\u001b[0m \u001b[0msize\u001b[0m\u001b[0;34m=\u001b[0m\u001b[0mlen\u001b[0m\u001b[0;34m(\u001b[0m\u001b[0mage_citi\u001b[0m\u001b[0;34m)\u001b[0m\u001b[0;34m)\u001b[0m\u001b[0;34m,\u001b[0m\u001b[0malpha\u001b[0m\u001b[0;34m=\u001b[0m\u001b[0;36m0.5\u001b[0m\u001b[0;34m)\u001b[0m\u001b[0;34m\u001b[0m\u001b[0m\n\u001b[0m",
      "\u001b[0;32m/opt/rh/anaconda/root/envs/PUI2016_Python2/lib/python2.7/site-packages/scipy/stats/_distn_infrastructure.pyc\u001b[0m in \u001b[0;36mrvs\u001b[0;34m(self, *args, **kwargs)\u001b[0m\n\u001b[1;32m   2794\u001b[0m         \"\"\"\n\u001b[1;32m   2795\u001b[0m         \u001b[0mkwargs\u001b[0m\u001b[0;34m[\u001b[0m\u001b[0;34m'discrete'\u001b[0m\u001b[0;34m]\u001b[0m \u001b[0;34m=\u001b[0m \u001b[0mTrue\u001b[0m\u001b[0;34m\u001b[0m\u001b[0m\n\u001b[0;32m-> 2796\u001b[0;31m         \u001b[0;32mreturn\u001b[0m \u001b[0msuper\u001b[0m\u001b[0;34m(\u001b[0m\u001b[0mrv_discrete\u001b[0m\u001b[0;34m,\u001b[0m \u001b[0mself\u001b[0m\u001b[0;34m)\u001b[0m\u001b[0;34m.\u001b[0m\u001b[0mrvs\u001b[0m\u001b[0;34m(\u001b[0m\u001b[0;34m*\u001b[0m\u001b[0margs\u001b[0m\u001b[0;34m,\u001b[0m \u001b[0;34m**\u001b[0m\u001b[0mkwargs\u001b[0m\u001b[0;34m)\u001b[0m\u001b[0;34m\u001b[0m\u001b[0m\n\u001b[0m\u001b[1;32m   2797\u001b[0m \u001b[0;34m\u001b[0m\u001b[0m\n\u001b[1;32m   2798\u001b[0m     \u001b[0;32mdef\u001b[0m \u001b[0mpmf\u001b[0m\u001b[0;34m(\u001b[0m\u001b[0mself\u001b[0m\u001b[0;34m,\u001b[0m \u001b[0mk\u001b[0m\u001b[0;34m,\u001b[0m \u001b[0;34m*\u001b[0m\u001b[0margs\u001b[0m\u001b[0;34m,\u001b[0m \u001b[0;34m**\u001b[0m\u001b[0mkwds\u001b[0m\u001b[0;34m)\u001b[0m\u001b[0;34m:\u001b[0m\u001b[0;34m\u001b[0m\u001b[0m\n",
      "\u001b[0;32m/opt/rh/anaconda/root/envs/PUI2016_Python2/lib/python2.7/site-packages/scipy/stats/_distn_infrastructure.pyc\u001b[0m in \u001b[0;36mrvs\u001b[0;34m(self, *args, **kwds)\u001b[0m\n\u001b[1;32m    931\u001b[0m         \u001b[0mdiscrete\u001b[0m \u001b[0;34m=\u001b[0m \u001b[0mkwds\u001b[0m\u001b[0;34m.\u001b[0m\u001b[0mpop\u001b[0m\u001b[0;34m(\u001b[0m\u001b[0;34m'discrete'\u001b[0m\u001b[0;34m,\u001b[0m \u001b[0mNone\u001b[0m\u001b[0;34m)\u001b[0m\u001b[0;34m\u001b[0m\u001b[0m\n\u001b[1;32m    932\u001b[0m         \u001b[0mrndm\u001b[0m \u001b[0;34m=\u001b[0m \u001b[0mkwds\u001b[0m\u001b[0;34m.\u001b[0m\u001b[0mpop\u001b[0m\u001b[0;34m(\u001b[0m\u001b[0;34m'random_state'\u001b[0m\u001b[0;34m,\u001b[0m \u001b[0mNone\u001b[0m\u001b[0;34m)\u001b[0m\u001b[0;34m\u001b[0m\u001b[0m\n\u001b[0;32m--> 933\u001b[0;31m         \u001b[0margs\u001b[0m\u001b[0;34m,\u001b[0m \u001b[0mloc\u001b[0m\u001b[0;34m,\u001b[0m \u001b[0mscale\u001b[0m\u001b[0;34m,\u001b[0m \u001b[0msize\u001b[0m \u001b[0;34m=\u001b[0m \u001b[0mself\u001b[0m\u001b[0;34m.\u001b[0m\u001b[0m_parse_args_rvs\u001b[0m\u001b[0;34m(\u001b[0m\u001b[0;34m*\u001b[0m\u001b[0margs\u001b[0m\u001b[0;34m,\u001b[0m \u001b[0;34m**\u001b[0m\u001b[0mkwds\u001b[0m\u001b[0;34m)\u001b[0m\u001b[0;34m\u001b[0m\u001b[0m\n\u001b[0m\u001b[1;32m    934\u001b[0m         \u001b[0mcond\u001b[0m \u001b[0;34m=\u001b[0m \u001b[0mlogical_and\u001b[0m\u001b[0;34m(\u001b[0m\u001b[0mself\u001b[0m\u001b[0;34m.\u001b[0m\u001b[0m_argcheck\u001b[0m\u001b[0;34m(\u001b[0m\u001b[0;34m*\u001b[0m\u001b[0margs\u001b[0m\u001b[0;34m)\u001b[0m\u001b[0;34m,\u001b[0m \u001b[0;34m(\u001b[0m\u001b[0mscale\u001b[0m \u001b[0;34m>=\u001b[0m \u001b[0;36m0\u001b[0m\u001b[0;34m)\u001b[0m\u001b[0;34m)\u001b[0m\u001b[0;34m\u001b[0m\u001b[0m\n\u001b[1;32m    935\u001b[0m         \u001b[0;32mif\u001b[0m \u001b[0;32mnot\u001b[0m \u001b[0mnp\u001b[0m\u001b[0;34m.\u001b[0m\u001b[0mall\u001b[0m\u001b[0;34m(\u001b[0m\u001b[0mcond\u001b[0m\u001b[0;34m)\u001b[0m\u001b[0;34m:\u001b[0m\u001b[0;34m\u001b[0m\u001b[0m\n",
      "\u001b[0;31mTypeError\u001b[0m: _parse_args_rvs() got an unexpected keyword argument 'scale'"
     ]
    },
    {
     "data": {
      "image/png": "[encoded data removed]",
      "text/plain": [
       "<matplotlib.figure.Figure at 0x7fd994be0dd0>"
      ]
     },
     "metadata": {},
     "output_type": "display_data"
    }
   ],
   "source": [
    "pl.hist(age_citi)\n",
    "pl.hist(scipy.stats.poisson.rvs(loc=mean_citi, scale=std_citi, size=len(age_citi)),alpha=0.5)"
   ]
  },
  {
   "cell_type": "code",
   "execution_count": 26,
   "metadata": {
    "collapsed": false
   },
   "outputs": [
    {
     "name": "stdout",
     "output_type": "stream",
     "text": [
      "AndersonResult(statistic=2780.102341594873, critical_values=array([ 0.576,  0.656,  0.787,  0.918,  1.092]), significance_level=array([ 15. ,  10. ,   5. ,   2.5,   1. ]))\n"
     ]
    }
   ],
   "source": [
    "ad_norm = scipy.stats.anderson(age_citi,'norm')\n",
    "print (ad_norm)"
   ]
  },
  {
   "cell_type": "code",
   "execution_count": 27,
   "metadata": {
    "collapsed": false
   },
   "outputs": [
    {
     "name": "stdout",
     "output_type": "stream",
     "text": [
      "AndersonResult(statistic=67471.917322958063, critical_values=array([ 0.922,  1.078,  1.341,  1.606,  1.957]), significance_level=array([ 15. ,  10. ,   5. ,   2.5,   1. ]))\n"
     ]
    }
   ],
   "source": [
    "ad_expon = scipy.stats.anderson(age_citi,'expon')\n",
    "print (ad_expon)"
   ]
  },
  {
   "cell_type": "markdown",
   "metadata": {
    "collapsed": true
   },
   "source": [
    "H0= there is no significant difference between Age distribution of Citibike users (age_citi) and the Gaussian distributon. \n",
    "\n",
    "\n",
    "H1= There is a significant difference between Age distribution of CitiBike users (age_citi) and the Gaussian distribution.\n",
    "\n",
    "Given the fact that the result of the Anderson Darling test was larger than the significace levels, we succeed to reject the Null Hypothesis."
   ]
  },
  {
   "cell_type": "code",
   "execution_count": null,
   "metadata": {
    "collapsed": true
   },
   "outputs": [],
   "source": []
  }
 ],
 "metadata": {
  "kernelspec": {
   "display_name": "PUI2016_Python2",
   "language": "python",
   "name": "pui2016_python2"
  },
  "language_info": {
   "codemirror_mode": {
    "name": "ipython",
    "version": 2
   },
   "file_extension": ".py",
   "mimetype": "text/x-python",
   "name": "python",
   "nbconvert_exporter": "python",
   "pygments_lexer": "ipython2",
   "version": "2.7.12"
  }
 },
 "nbformat": 4,
 "nbformat_minor": 0
}
