{
 "cells": [
  {
   "cell_type": "code",
   "execution_count": 22,
   "metadata": {
    "collapsed": true
   },
   "outputs": [],
   "source": [
    "import os\n",
    "import sys\n",
    "import numpy as np\n",
    "import pylab as pl\n",
    "from __future__  import print_function"
   ]
  },
  {
   "cell_type": "code",
   "execution_count": null,
   "metadata": {
    "collapsed": true
   },
   "outputs": [],
   "source": [
    "#H0 = The people who were a part of the program group have the same or higher chances of convicting a felony within 3 years\n",
    "#than the people who are a part of the control gorup (people that were not part of the program) \n",
    "#Ha = The people who were a part of the program group have a lower chance of convicting a felony within 3 years\n",
    "#than the people who are a part of the control gorup."
   ]
  },
  {
   "cell_type": "markdown",
   "metadata": {
    "collapsed": false
   },
   "source": [
    "alpha=0.05\n",
    "\n",
    "p_0 = 3.5*0.01 \n",
    "p_1 = 70.1*0.01\n",
    "\n",
    "if p_0-p_1 >= 0:\n",
    " \n",
    "    print (\"the Null holds\")\n",
    "else:\n",
    "    print (\"we must assess the statistical significance\")\n",
    "\n",
    "n_0 = 409\n",
    "n_1 = 564\n",
    "\n",
    "\n",
    "nt_0 = p_0 * n_0\n",
    "nt_1 = p_1 * n_1"
   ]
  },
  {
   "cell_type": "code",
   "execution_count": 24,
   "metadata": {
    "collapsed": false
   },
   "outputs": [
    {
     "name": "stdout",
     "output_type": "stream",
     "text": [
      "0.421047276465\n"
     ]
    }
   ],
   "source": [
    "sp = (p_0 * n_0 + p_1 * n_1) / (n_1 + n_0)\n",
    "print (sp)"
   ]
  },
  {
   "cell_type": "code",
   "execution_count": 25,
   "metadata": {
    "collapsed": false
   },
   "outputs": [
    {
     "name": "stdout",
     "output_type": "stream",
     "text": [
      "0.035 409 564 0.0320658086057\n"
     ]
    }
   ],
   "source": [
    "def sp_stdev(p,n):\n",
    "    return(np.sqrt( p * ( 1 - p ) / n[0] +  p * ( 1 - p ) / n[1]))\n",
    "\n",
    "sp_stdev_2y = sp_stdev(( nt_0 + nt_1) / (n_0 + n_1), [n_0, n_1])\n",
    "print (p_0, n_0, n_1, sp_stdev_2y)"
   ]
  },
  {
   "cell_type": "code",
   "execution_count": 26,
   "metadata": {
    "collapsed": false
   },
   "outputs": [
    {
     "name": "stdout",
     "output_type": "stream",
     "text": [
      "20.7697865408\n"
     ]
    }
   ],
   "source": [
    "def zscore (p0, p1, s):\n",
    "    return((p0 - p1)/s)\n",
    "\n",
    "z_2y = zscore(p_1, p_0, sp_stdev_2y)\n",
    "print ((z_2y))"
   ]
  },
  {
   "cell_type": "code",
   "execution_count": 27,
   "metadata": {
    "collapsed": false
   },
   "outputs": [
    {
     "name": "stdout",
     "output_type": "stream",
     "text": [
      "is the p value 0.00 smaller than the critical value 0.05? \n",
      "YES!\n",
      "the Null hypothesis is rejected\n"
     ]
    }
   ],
   "source": [
    "p_2y = 1 - 0.9998\n",
    "\n",
    "\n",
    "def report_result(p,a):\n",
    "    print ('is the p value {0:.2f} smaller than the critical value {1:.2f}? '.format(p,a))\n",
    "    if p < a:\n",
    "        print (\"YES!\")\n",
    "    else: \n",
    "        print (\"NO!\")\n",
    "    \n",
    "    print ('the Null hypothesis is {}'.format( 'rejected' if p < a  else 'not rejected') )\n",
    "\n",
    "    \n",
    "report_result(p_2y,alpha)"
   ]
  },
  {
   "cell_type": "code",
   "execution_count": 28,
   "metadata": {
    "collapsed": false
   },
   "outputs": [
    {
     "name": "stdout",
     "output_type": "stream",
     "text": [
      "the Null holds\n"
     ]
    }
   ],
   "source": [
    "alpha=0.05\n",
    "\n",
    "p_0 = 11.7*0.01 \n",
    "p_1 = 10.0*0.01\n",
    "\n",
    "if p_0-p_1 >= 0:\n",
    "\n",
    "    print (\"the Null holds\")\n",
    "else:\n",
    "    print (\"we must assess the statistical significance\")\n",
    "\n",
    "n_0 = 409\n",
    "n_1 = 568\n",
    "\n",
    "\n",
    "nt_0 = p_0 * n_0\n",
    "nt_1 = p_1 * n_1"
   ]
  },
  {
   "cell_type": "code",
   "execution_count": 29,
   "metadata": {
    "collapsed": false
   },
   "outputs": [
    {
     "name": "stdout",
     "output_type": "stream",
     "text": [
      "0.107116683726\n"
     ]
    }
   ],
   "source": [
    "#define the sample proportion first\n",
    "sp = (p_0 * n_0 + p_1 * n_1) / (n_1 + n_0)\n",
    "print (sp)"
   ]
  },
  {
   "cell_type": "code",
   "execution_count": 30,
   "metadata": {
    "collapsed": false
   },
   "outputs": [
    {
     "name": "stdout",
     "output_type": "stream",
     "text": [
      "0.117 409 568 0.0200556791612\n"
     ]
    }
   ],
   "source": [
    "def sp_stdev(p,n):\n",
    "    return(np.sqrt( p * ( 1 - p ) / n[0] +  p * ( 1 - p ) / n[1]))\n",
    "\n",
    "sp_stdev_2y = sp_stdev(( nt_0 + nt_1) / (n_0 + n_1), [n_0, n_1])\n",
    "print (p_0, n_0, n_1, sp_stdev_2y)"
   ]
  },
  {
   "cell_type": "code",
   "execution_count": 31,
   "metadata": {
    "collapsed": false
   },
   "outputs": [
    {
     "name": "stdout",
     "output_type": "stream",
     "text": [
      "0.84764020522\n"
     ]
    }
   ],
   "source": [
    "def zscore (p0, p1, s):\n",
    "    return((p0 - p1)/s)\n",
    "\n",
    "z_2y = zscore(p_1, p_0, sp_stdev_2y)\n",
    "print (abs(z_2y))"
   ]
  },
  {
   "cell_type": "code",
   "execution_count": 32,
   "metadata": {
    "collapsed": false
   },
   "outputs": [
    {
     "name": "stdout",
     "output_type": "stream",
     "text": [
      "is the p value 0.18 smaller than the critical value 0.05? \n",
      "NO!\n",
      "the Null hypothesis is not rejected\n"
     ]
    }
   ],
   "source": [
    "ran = (0.8289 + 0.8023)/2\n",
    "p_2y = 1-ran\n",
    "\n",
    "def report_result(p,a):\n",
    "    print ('is the p value {0:.2f} smaller than the critical value {1:.2f}? '.format(p,a))\n",
    "    if p < a:\n",
    "        print (\"YES!\")\n",
    "    else: \n",
    "        print (\"NO!\")\n",
    "    \n",
    "    print ('the Null hypothesis is {}'.format( 'rejected' if p < a  else 'not rejected') )\n",
    "\n",
    "    \n",
    "report_result(p_2y,alpha)"
   ]
  },
  {
   "cell_type": "code",
   "execution_count": 33,
   "metadata": {
    "collapsed": false
   },
   "outputs": [
    {
     "data": {
      "text/plain": [
       "56.800000000000004"
      ]
     },
     "execution_count": 33,
     "metadata": {},
     "output_type": "execute_result"
    }
   ],
   "source": [
    "suc1 = 568*0.1\n",
    "suc1"
   ]
  },
  {
   "cell_type": "code",
   "execution_count": 34,
   "metadata": {
    "collapsed": false
   },
   "outputs": [
    {
     "data": {
      "text/plain": [
       "511.2"
      ]
     },
     "execution_count": 34,
     "metadata": {},
     "output_type": "execute_result"
    }
   ],
   "source": [
    "fail1 = 568 * (1-0.1)\n",
    "fail1"
   ]
  },
  {
   "cell_type": "code",
   "execution_count": 35,
   "metadata": {
    "collapsed": false
   },
   "outputs": [
    {
     "data": {
      "text/plain": [
       "47.853"
      ]
     },
     "execution_count": 35,
     "metadata": {},
     "output_type": "execute_result"
    }
   ],
   "source": [
    "suc2 = 409*0.117\n",
    "suc2"
   ]
  },
  {
   "cell_type": "code",
   "execution_count": 36,
   "metadata": {
    "collapsed": false
   },
   "outputs": [
    {
     "data": {
      "text/plain": [
       "361.147"
      ]
     },
     "execution_count": 36,
     "metadata": {},
     "output_type": "execute_result"
    }
   ],
   "source": [
    "fail2 = 409*(1-0.117)\n",
    "fail2"
   ]
  },
  {
   "cell_type": "markdown",
   "metadata": {},
   "source": [
    "|Convicted of a felony |Yes |  No |  Total| \n",
    "|:--------------------:|:-------:|:-------------:|:-----:|\n",
    "|Test Sample|  568*0.1| 568*(1-0.1) | 568\n",
    "|Test Sample| 409*0.117 | 409*(1-0.117) | 409\n",
    "|Total|104.653|872.347|977"
   ]
  },
  {
   "cell_type": "markdown",
   "metadata": {
    "collapsed": true
   },
   "source": [
    "|Convicted of a felony |Yes |  No |  Total| \n",
    "|:--------------------:|:-------:|:-------------:|:-----:|\n",
    "|Test Sample|  (568*104.653)/977 = 60.84| (568*872.347)/977 = 507.157 | 568\n",
    "|Test Sample| (409*104.653)/977 = 43.81| (409*872.347)/977 = 365.189| 409\n",
    "|Total|104.653|872.347|977"
   ]
  },
  {
   "cell_type": "code",
   "execution_count": 45,
   "metadata": {
    "collapsed": false
   },
   "outputs": [
    {
     "name": "stdout",
     "output_type": "stream",
     "text": [
      "0.718493917505\n"
     ]
    }
   ],
   "source": [
    "def chisqstat (n, values, expect_num): \n",
    "    return (((values[0][0] * values[1][1] - values[0][1] * values[1][0])**2) * n / expect_num)\n",
    "ntot = 977 \n",
    "expected_num = 568*409*104.653*872.347\n",
    "sample_values = [[0.1 * 568, 0.9 * 568], [0.117 * 409, 0.883 * 409]]\n",
    " \n",
    "\n",
    "print (chisqstat(ntot,  sample_values, expected_num))"
   ]
  },
  {
   "cell_type": "code",
   "execution_count": null,
   "metadata": {
    "collapsed": true
   },
   "outputs": [],
   "source": [
    "# Since the p value is between 0.25 and 0.5, we fail to reject the null hypothesis. Therefore, our Hypothesis is rejected. "
   ]
  }
 ],
 "metadata": {
  "kernelspec": {
   "display_name": "PUI2016_Python2",
   "language": "python",
   "name": "pui2016_python2"
  },
  "language_info": {
   "codemirror_mode": {
    "name": "ipython",
    "version": 2
   },
   "file_extension": ".py",
   "mimetype": "text/x-python",
   "name": "python",
   "nbconvert_exporter": "python",
   "pygments_lexer": "ipython2",
   "version": "2.7.12"
  }
 },
 "nbformat": 4,
 "nbformat_minor": 0
}
